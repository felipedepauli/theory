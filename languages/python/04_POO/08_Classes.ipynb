{
 "cells": [
  {
   "cell_type": "code",
   "execution_count": 1,
   "metadata": {},
   "outputs": [
    {
     "name": "stdout",
     "output_type": "stream",
     "text": [
      "A soma 23 + 11 é 34.\n",
      "O produto 23 x 11 é 253.\n"
     ]
    }
   ],
   "source": [
    "class Calculadora:\n",
    "    def __init__(self, a, b):\n",
    "        self.a = a\n",
    "        self.b = b\n",
    "        \n",
    "    def getA(self):\n",
    "        return self.a\n",
    "    \n",
    "    def getB(self):\n",
    "        return self.b\n",
    "    \n",
    "    def soma(self):\n",
    "        return self.a + self.b\n",
    "    \n",
    "    def multiplicacao(self):\n",
    "        return self.a * self.b\n",
    "    \n",
    "calc = Calculadora(23, 11)\n",
    "\n",
    "print(f'A soma {calc.getA()} + {calc.getB()} é {calc.soma()}.')\n",
    "print(f'O produto {calc.getA()} x {calc.getB()} é {calc.multiplicacao()}.')\n"
   ]
  }
 ],
 "metadata": {
  "kernelspec": {
   "display_name": "Python 3.8.10 64-bit",
   "language": "python",
   "name": "python3"
  },
  "language_info": {
   "codemirror_mode": {
    "name": "ipython",
    "version": 3
   },
   "file_extension": ".py",
   "mimetype": "text/x-python",
   "name": "python",
   "nbconvert_exporter": "python",
   "pygments_lexer": "ipython3",
   "version": "3.8.10"
  },
  "orig_nbformat": 4,
  "vscode": {
   "interpreter": {
    "hash": "916dbcbb3f70747c44a77c7bcd40155683ae19c65e1c03b4aa3499c5328201f1"
   }
  }
 },
 "nbformat": 4,
 "nbformat_minor": 2
}
