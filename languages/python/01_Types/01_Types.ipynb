{
 "cells": [
  {
   "cell_type": "markdown",
   "metadata": {},
   "source": [
    "<style>\n",
    "    .md {\n",
    "        font-family: Consolas, Monospace;\n",
    "        font-size: 16px;\n",
    "    }\n",
    "    .br, .en {\n",
    "        padding: 10px 0;\n",
    "        display: none;\n",
    "    }\n",
    "    .en {\n",
    "        border-top: 1px dotted lightgray;\n",
    "        color: #444;\n",
    "    }\n",
    "    h1 {\n",
    "        font-size: 24px;\n",
    "    }\n",
    "</style>\n",
    "\n",
    "<div class=md>\n",
    "<div class=br>\n",
    "<h1>Tipos</h1>\n",
    "</div>\n",
    "<div class=en>\n",
    "<h1>Types</h1>\n",
    "</div>\n",
    "</div>"
   ]
  },
  {
   "cell_type": "markdown",
   "metadata": {},
   "source": [
    "<style>\n",
    "    .md {\n",
    "        font-family: Consolas, Monospace;\n",
    "        font-size: 16px;\n",
    "    }\n",
    "    .br, .en {\n",
    "        padding: 10px 0;\n",
    "        color: rgb(55, 55, 139)\n",
    "    }\n",
    "    .en {\n",
    "        border-top: 1px dotted orange;\n",
    "    }\n",
    "    h1 {\n",
    "        font-size: 24px;\n",
    "        font-weight: bold;\n",
    "    }\n",
    "    ul.list {\n",
    "        padding: 15px 50px;\n",
    "    }\n",
    "</style>\n",
    "<div class=md>\n",
    "<div class=br>\n",
    "    <h1>Tipos</h1>\n",
    "    Os tipos primitivos do python são:  \n",
    "    <ul class=list>\n",
    "        <li>float - números reais</li>\n",
    "        <li>int - números inteiros</li>\n",
    "        <li>str - texto</li>\n",
    "        <li>bool - números boleanos</li>\n",
    "    </ul>\n",
    "</div>\n",
    "<div class=en>\n",
    "    <h1>Types</h1>\n",
    "    The python primitive types are:  \n",
    "    <ul class=list>\n",
    "        <li>float - real numbers</li>\n",
    "        <li>int - integer numbers</li>\n",
    "        <li>str - strings, text</li>\n",
    "        <li>bool - booleans</li>\n",
    "    </ul>\n",
    "</div>\n",
    "\n",
    "</div>\n",
    "\n",
    "</div>"
   ]
  },
  {
   "cell_type": "code",
   "execution_count": 4,
   "metadata": {},
   "outputs": [
    {
     "name": "stdout",
     "output_type": "stream",
     "text": [
      "The variable \"x\", which value is \"1\", is of type <class 'int'>.\n",
      "The variable \"y\", which value is \"1.1\", is of type <class 'float'>.\n",
      "The variable \"text\", which value is \"This is a string.\", is of type <class 'str'>.\n",
      "The variable \"text_double_quoted\", which value is \"This is also a string.\", is also of type <class 'str'>.\n",
      "The variable \"boolean\", which value is \"True\", is of type <class 'bool'>.\n"
     ]
    }
   ],
   "source": [
    "# Each number in python is of a type that depends how it was set firstly\n",
    "\n",
    "x = 1       # This is an integer\n",
    "y = 1.1     # This is a float\n",
    "\n",
    "\n",
    "# To define a text, there is no difference between single and double quoted\n",
    "\n",
    "text = 'This is a string.'                      # This is a string\n",
    "text_double_quoted = \"This is also a string.\"   # This is also a string\n",
    "\n",
    "boolean = True # Boolean is a boolean\n",
    "\n",
    "# Take a look at how the type system works here\n",
    "\n",
    "print(f'The variable \"x\", which value is \"{x}\", is of type {type(x)}.')\n",
    "print(f'The variable \"y\", which value is \"{y}\", is of type {type(y)}.')\n",
    "print(f'The variable \"text\", which value is \"{text}\", is of type {type(text)}.')\n",
    "print(f'The variable \"text_double_quoted\", which value is \"{text_double_quoted}\", is also of type {type(text_double_quoted)}.')\n",
    "print(f'The variable \"boolean\", which value is \"{boolean}\", is of type {type(boolean)}.')"
   ]
  },
  {
   "cell_type": "markdown",
   "metadata": {},
   "source": [
    "<style>\n",
    "    .md {\n",
    "        font-family: Consolas, Monospace;\n",
    "        font-size: 16px;\n",
    "    }\n",
    "    .br, .en {\n",
    "        padding: 10px 0;\n",
    "    }\n",
    "    .en {\n",
    "        border-top: 1px dotted lightgray;\n",
    "        color: #444;\n",
    "    }\n",
    "</style>\n",
    "<div class=md>\n",
    "<div class=br>\n",
    "Cada tipo possui seu próprio conjunto de atributos e métodos, afinal, são classes. Estas classes podem se comportar de formas diferentes para mesmas operações.\n",
    "</div>\n",
    "<div class=en>\n",
    "Each type has its own set of atributes and methods, after all, they're classes. These classes can behave in different ways to same operations.\n",
    "</div>\n",
    "</div>"
   ]
  },
  {
   "cell_type": "code",
   "execution_count": 4,
   "metadata": {},
   "outputs": [
    {
     "name": "stdout",
     "output_type": "stream",
     "text": [
      "2\n",
      "This is a string.This is a string.\n"
     ]
    }
   ],
   "source": [
    "print(x + x)\n",
    "print(text + text)"
   ]
  },
  {
   "cell_type": "markdown",
   "metadata": {},
   "source": [
    "<html>\n",
    "<style>\n",
    "    body {\n",
    "        font-family: Consolas, Monospace;\n",
    "        font-size: 20px;\n",
    "    }\n",
    "</style>\n",
    "<body>\n",
    "\n",
    "</body>\n",
    "</html>"
   ]
  }
 ],
 "metadata": {
  "kernelspec": {
   "display_name": "Python 3.8.10 64-bit",
   "language": "python",
   "name": "python3"
  },
  "language_info": {
   "codemirror_mode": {
    "name": "ipython",
    "version": 3
   },
   "file_extension": ".py",
   "mimetype": "text/x-python",
   "name": "python",
   "nbconvert_exporter": "python",
   "pygments_lexer": "ipython3",
   "version": "3.8.10"
  },
  "orig_nbformat": 4,
  "vscode": {
   "interpreter": {
    "hash": "916dbcbb3f70747c44a77c7bcd40155683ae19c65e1c03b4aa3499c5328201f1"
   }
  }
 },
 "nbformat": 4,
 "nbformat_minor": 2
}
