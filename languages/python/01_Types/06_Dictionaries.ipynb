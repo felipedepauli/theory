{
 "cells": [
  {
   "cell_type": "code",
   "execution_count": 3,
   "metadata": {},
   "outputs": [],
   "source": [
    "characters = {\n",
    "    \"Finn\": {\n",
    "        \"name\": \"Finn Mertens\",\n",
    "        \"gender\": \"male\",\n",
    "        \"species\": \"human\"\n",
    "    },\n",
    "    \"Jake\": {\n",
    "        \"name\": \"Jake the Dog\",\n",
    "        \"gender\": \"male\",\n",
    "        \"species\": \"dog\"\n",
    "    },\n",
    "    \"Bubblegum\": {\n",
    "        \"name\": \"Bonnibel Bonnie Bubblegum\",\n",
    "        \"gender\": \"female\",\n",
    "        \"species\": \"gum person\"\n",
    "    },\n",
    "    \"Marceline\": {\n",
    "        \"name\": \"Wow\",\n",
    "        \"gender\": \"female\",\n",
    "        \"species\": \"vampire\"\n",
    "    },\n",
    "    \"Ice King\": {\n",
    "        \"name\": \"Simon Petrikov\",\n",
    "        \"gender\": \"male\",\n",
    "        \"species\": \"dog\"\n",
    "    },\n",
    "    \"Gunter\": {\n",
    "        \"name\": \"Gunter\",\n",
    "        \"gender\": \"nd\",\n",
    "        \"species\": \"penguim\"\n",
    "    }\n",
    "}"
   ]
  },
  {
   "cell_type": "code",
   "execution_count": 4,
   "metadata": {},
   "outputs": [
    {
     "name": "stdout",
     "output_type": "stream",
     "text": [
      "<class 'dict_keys'>\n",
      "dict_values([{'name': 'Finn Mertens', 'gender': 'male', 'species': 'human'}, {'name': 'Jake the Dog', 'gender': 'male', 'species': 'dog'}, {'name': 'Bonnibel Bonnie Bubblegum', 'gender': 'female', 'species': 'gum person'}, {'name': 'Wow', 'gender': 'female', 'species': 'vampire'}, {'name': 'Simon Petrikov', 'gender': 'male', 'species': 'dog'}, {'name': 'Gunter', 'gender': 'nd', 'species': 'penguim'}])\n"
     ]
    }
   ],
   "source": [
    "print(type(characters.keys()))\n",
    "print(characters.values())"
   ]
  },
  {
   "cell_type": "code",
   "execution_count": 5,
   "metadata": {},
   "outputs": [
    {
     "name": "stdout",
     "output_type": "stream",
     "text": [
      "True\n",
      "False\n"
     ]
    }
   ],
   "source": [
    "print('Marceline' in characters)\n",
    "print('The Ice King' in characters)"
   ]
  },
  {
   "cell_type": "code",
   "execution_count": 6,
   "metadata": {},
   "outputs": [
    {
     "name": "stdout",
     "output_type": "stream",
     "text": [
      "Eu amo isso aqui, meu irmão. Programação é o que há!\n"
     ]
    }
   ],
   "source": [
    "print( 'Eu amo isso aqui, meu irmão. Programação é o que há!')"
   ]
  }
 ],
 "metadata": {
  "kernelspec": {
   "display_name": "Python 3.10.5 64-bit",
   "language": "python",
   "name": "python3"
  },
  "language_info": {
   "codemirror_mode": {
    "name": "ipython",
    "version": 3
   },
   "file_extension": ".py",
   "mimetype": "text/x-python",
   "name": "python",
   "nbconvert_exporter": "python",
   "pygments_lexer": "ipython3",
   "version": "3.10.5"
  },
  "orig_nbformat": 4,
  "vscode": {
   "interpreter": {
    "hash": "369f2c481f4da34e4445cda3fffd2e751bd1c4d706f27375911949ba6bb62e1c"
   }
  }
 },
 "nbformat": 4,
 "nbformat_minor": 2
}
