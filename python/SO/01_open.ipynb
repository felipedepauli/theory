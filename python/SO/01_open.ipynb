{
 "cells": [
  {
   "cell_type": "markdown",
   "metadata": {},
   "source": [
    "### 1 Criar descritor"
   ]
  },
  {
   "cell_type": "code",
   "execution_count": 57,
   "metadata": {},
   "outputs": [],
   "source": [
    "# Vamos pegar uma brisa sobre como trabalhar com o método OPEN. Ele vem com o python, então não é preciso instalar nada para usá-lo.\n",
    "# Vamos começar criando o descriptor, que nada mais é do que um arquivo que possui todas as informações do sistema de arquivos e so do arquivo o qual se deseja trabalhar.\n",
    "\n",
    "# Cria o descriptor.\n",
    "fd = open('./01_textim.txt', 'r')"
   ]
  },
  {
   "cell_type": "markdown",
   "metadata": {},
   "source": [
    "### 2 Ler arquivo"
   ]
  },
  {
   "cell_type": "code",
   "execution_count": 58,
   "metadata": {},
   "outputs": [
    {
     "data": {
      "text/plain": [
       "'E aí, meus consa. Numa nice?\\nTô aqui só de bobeira vendo qualé.'"
      ]
     },
     "execution_count": 58,
     "metadata": {},
     "output_type": "execute_result"
    }
   ],
   "source": [
    "# Vamos começar abrindo o arquivo.\n",
    "\n",
    "# Lê o arquivo:\n",
    "fd.read()\n",
    "\n",
    "# Perceba que o arquivo possui mais de uma linha. Cada linha é separada por um marcador \\n."
   ]
  },
  {
   "cell_type": "code",
   "execution_count": 59,
   "metadata": {},
   "outputs": [],
   "source": [
    "# É uma boa prática sempre fechar o arquivo depois de trabalhar com ele.\n",
    "\n",
    "# Fechar o arquivo\n",
    "fd.close()"
   ]
  },
  {
   "cell_type": "markdown",
   "metadata": {},
   "source": [
    "#### 2.1 Leitura de uma linha"
   ]
  },
  {
   "cell_type": "code",
   "execution_count": 53,
   "metadata": {},
   "outputs": [
    {
     "name": "stdout",
     "output_type": "stream",
     "text": [
      "E aí, meus consa. Numa nice?\n",
      "Tô aqui só de bobeira vendo qualé.\n",
      "\n"
     ]
    }
   ],
   "source": [
    "# Como você pode ver, o arquivo possui mais de uma linha.\n",
    "# Se você quiser, pode fazer a leitura de apenas uma linha do arquivo.\n",
    "# A cada leitura, há o retorno de uma linha do arquivo.\n",
    "# O descriptor guarda a informação de onde se está no arquivo para que você precise apenas executar o comando o obter a próxima linha.\n",
    "\n",
    "fd = open('./01_textim.txt', 'r')\n",
    "print(fd.readline().replace('\\n', ''))\n",
    "print(fd.readline())\n",
    "print(fd.readline())\n",
    "fd.close()"
   ]
  },
  {
   "cell_type": "code",
   "execution_count": 61,
   "metadata": {},
   "outputs": [
    {
     "name": "stdout",
     "output_type": "stream",
     "text": [
      "E aí, meus consa. Numa nice?\n",
      "Tô aqui só de bobeira vendo qualé.\n"
     ]
    }
   ],
   "source": [
    "# É melhor usar um looping para tratar todas as linhas.\n",
    "\n",
    "fd = open('./01_textim.txt', 'r')\n",
    "while True:\n",
    "    line = fd.readline().replace('\\n', '')\n",
    "    if line == '':\n",
    "        break\n",
    "    print(line)\n",
    "fd.close()"
   ]
  },
  {
   "cell_type": "markdown",
   "metadata": {},
   "source": [
    "### 3 Diretórios"
   ]
  },
  {
   "cell_type": "markdown",
   "metadata": {},
   "source": [
    "#### 3.1 Criar Diretório"
   ]
  },
  {
   "cell_type": "code",
   "execution_count": 55,
   "metadata": {},
   "outputs": [],
   "source": [
    "import os\n",
    "if not os.path.exists('NovoDir'):\n",
    "    os.mkdir(\"NovoDir\")"
   ]
  },
  {
   "cell_type": "markdown",
   "metadata": {},
   "source": [
    "#### 3.2 Remover Diretório"
   ]
  },
  {
   "cell_type": "code",
   "execution_count": 56,
   "metadata": {},
   "outputs": [],
   "source": [
    "if os.path.exists('NovoDir'):\n",
    "    os.rmdir('NovoDir')"
   ]
  },
  {
   "cell_type": "markdown",
   "metadata": {},
   "source": [
    "### 4 Escrever"
   ]
  },
  {
   "cell_type": "markdown",
   "metadata": {},
   "source": [
    "#### 4.1 Criar ou sobrescrever arquivo"
   ]
  },
  {
   "cell_type": "code",
   "execution_count": 125,
   "metadata": {},
   "outputs": [],
   "source": [
    "# Aqui é simples. Se o arquivo não existir, é criado. Se existir, é sobrescrito.\n",
    "\n",
    "# Abre o arquivo\n",
    "fd = open('./novo.txt', 'w')\n",
    "# Escreve várias linhas\n",
    "fd.write('Quero escrever uma linha aqui\\n')\n",
    "fd.write('Uma segunda linha aqui!\\n')\n",
    "fd.write('Mais uma\\n')\n",
    "fd.write('Mais uma\\n')\n",
    "fd.write('Mais uma\\n')\n",
    "fd.write('Mais uma\\n')\n",
    "fd.write('Mais uma\\n')\n",
    "fd.write('Mais uma\\n')\n",
    "fd.write('E mais uma para fechar!!!\\n')\n",
    "# Fecha a parada\n",
    "fd.close()"
   ]
  },
  {
   "cell_type": "markdown",
   "metadata": {},
   "source": [
    "#### 4.2 Adicionar nova linha ao fim"
   ]
  },
  {
   "cell_type": "code",
   "execution_count": 124,
   "metadata": {},
   "outputs": [],
   "source": [
    "fd = open('./novo.txt', 'a')\n",
    "fd.write('------------------------\\n')\n",
    "fd.write('Criando uma nova linha\\n')\n",
    "fd.write('Esta será a penúltima\\n')\n",
    "fd.write('E esta a nova última\\n')\n",
    "fd.close()"
   ]
  },
  {
   "cell_type": "markdown",
   "metadata": {},
   "source": [
    "#### 5 Remover arquivos "
   ]
  },
  {
   "cell_type": "code",
   "execution_count": null,
   "metadata": {},
   "outputs": [],
   "source": [
    "# Aí é mole. É só usar o remove com o nome. O arquivo, obviamente, deve existir.\n",
    "\n",
    "if os.path.exists('novo.txt'):\n",
    "    os.remove('novo.txt')\n",
    "else:\n",
    "    print('The file does not exist.')\n"
   ]
  }
 ],
 "metadata": {
  "kernelspec": {
   "display_name": "Python 3.8.10 64-bit",
   "language": "python",
   "name": "python3"
  },
  "language_info": {
   "codemirror_mode": {
    "name": "ipython",
    "version": 3
   },
   "file_extension": ".py",
   "mimetype": "text/x-python",
   "name": "python",
   "nbconvert_exporter": "python",
   "pygments_lexer": "ipython3",
   "version": "3.8.10"
  },
  "orig_nbformat": 4,
  "vscode": {
   "interpreter": {
    "hash": "916dbcbb3f70747c44a77c7bcd40155683ae19c65e1c03b4aa3499c5328201f1"
   }
  }
 },
 "nbformat": 4,
 "nbformat_minor": 2
}
