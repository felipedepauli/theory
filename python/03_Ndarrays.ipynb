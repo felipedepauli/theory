{
 "cells": [
  {
   "cell_type": "code",
   "execution_count": 1,
   "metadata": {},
   "outputs": [],
   "source": [
    "import numpy as np"
   ]
  },
  {
   "cell_type": "code",
   "execution_count": 6,
   "metadata": {},
   "outputs": [
    {
     "name": "stdout",
     "output_type": "stream",
     "text": [
      "<class 'list'>\n",
      "<class 'numpy.ndarray'>\n"
     ]
    }
   ],
   "source": [
    "dados_a = [2, 3, 4, 5, 6, 7, 8]\n",
    "dados_b = [1, 11, 1, 11, 1, 11, 1]\n",
    "\n",
    "dados_a_np = np.array(dados_a)\n",
    "dados_b_np = np.array(dados_b)\n",
    "\n",
    "print(type(dados_a))\n",
    "print(type(dados_a_np))"
   ]
  },
  {
   "cell_type": "code",
   "execution_count": 11,
   "metadata": {},
   "outputs": [
    {
     "name": "stdout",
     "output_type": "stream",
     "text": [
      "[2, 3, 4, 5, 6, 7, 8, 1, 11, 1, 11, 1, 11, 1]\n",
      "[ 3 14  5 16  7 18  9]\n",
      "[2, 3, 4, 5, 6, 7, 8, 2, 3, 4, 5, 6, 7, 8]\n",
      "[ 4  6  8 10 12 14 16]\n"
     ]
    }
   ],
   "source": [
    "print(dados_a + dados_b)\n",
    "print(dados_a_np + dados_b_np)\n",
    "print(dados_a * 2)\n",
    "print(dados_a_np * 2)"
   ]
  },
  {
   "cell_type": "markdown",
   "metadata": {},
   "source": [
    "<style>\n",
    "    .md {\n",
    "        font-family: Consolas, Monospace;\n",
    "        font-size: 16px;\n",
    "    }\n",
    "    .br, .en {\n",
    "        padding: 10px 0;\n",
    "    }\n",
    "    .en {\n",
    "        border-top: 1px dotted lightgray;\n",
    "        color: #444;\n",
    "    }\n",
    "</style>\n",
    "<div class=\"md\">\n",
    "<div class=\"br\">\n",
    "Quando utilizamos algum operador lógico em um ndarray, o retorno é um ndarray de mesmas dimensões com True ou False para cada elemento testado. Isso pode ser utilizado como índice no mesmo ndarray ou outro de mesma dimensão para selecionar somente os rows que atendem a alguma especificação.\n",
    "</div>\n",
    "<div class=\"en\">\n",
    "When we utilize some logical operator over a ndarray, the return is an another ndarray with the same dimension fully of True or False to each element tested. This can be utilized as an index in the same ndarray or another of the same dimension to select the rows which match some specification.\n",
    "</div>\n",
    "</div>"
   ]
  },
  {
   "cell_type": "code",
   "execution_count": 14,
   "metadata": {},
   "outputs": [
    {
     "name": "stdout",
     "output_type": "stream",
     "text": [
      "[False False False  True  True  True  True]\n",
      "[5 6 7 8]\n"
     ]
    }
   ],
   "source": [
    "print(dados_a_np > 4)\n",
    "print(dados_a_np[dados_a_np > 4])"
   ]
  },
  {
   "cell_type": "markdown",
   "metadata": {},
   "source": [
    "<style>\n",
    "    .md {\n",
    "        font-family: Consolas, Monospace;\n",
    "        font-size: 16px;\n",
    "    }\n",
    "    .br, .en {\n",
    "        padding: 10px 0;\n",
    "    }\n",
    "    .en {\n",
    "        border-top: 1px dotted lightgray;\n",
    "        color: #444;\n",
    "    }\n",
    "    h2 {\n",
    "        font-size: 20px;\n",
    "    }\n",
    "</style>\n",
    "\n",
    "<div class=md>\n",
    "<div class=br>\n",
    "<h2>Arrays multidimensionais</h2>\n",
    "</div>\n",
    "<div class=en>\n",
    "<h2>Multidimensional arrays</h2>\n",
    "</div>\n",
    "</div>"
   ]
  },
  {
   "cell_type": "code",
   "execution_count": 19,
   "metadata": {},
   "outputs": [
    {
     "name": "stdout",
     "output_type": "stream",
     "text": [
      "(5, 3)\n",
      "[['name' 'Finn' '1']\n",
      " ['name' 'Jake' '2']\n",
      " ['name' 'Bubblegum' '3']\n",
      " ['name' 'Marceline' '4']\n",
      " ['name' 'Simon Petrikov' '5']]\n"
     ]
    }
   ],
   "source": [
    "multidimensional = np.array([\n",
    "    ['name', 'Finn', 1],\n",
    "    ['name', 'Jake', 2],\n",
    "    ['name', 'Bubblegum', 3],\n",
    "    ['name', 'Marceline', 4],\n",
    "    ['name', 'Simon Petrikov', 5]]\n",
    ")\n",
    "print(multidimensional.shape)\n",
    "print(multidimensional)"
   ]
  },
  {
   "cell_type": "markdown",
   "metadata": {},
   "source": [
    "<style>\n",
    "    .md {\n",
    "        font-family: Consolas, Monospace;\n",
    "        font-size: 16px;\n",
    "    }\n",
    "    .br, .en {\n",
    "        padding: 10px 0;\n",
    "    }\n",
    "    .en {\n",
    "        border-top: 1px dotted lightgray;\n",
    "        color: #444;\n",
    "    }\n",
    "</style>\n",
    "<div class=\"md\">\n",
    "<div class=\"br\">\n",
    "Uma das características do ndarray é que ele pode conter apenas elementos com mesmo tipo. Perceba no exemplo anterior que havia números na matriz, porém, após a criação do ndarray, os números foram convertidos para string. Isso sempre acontecerá.\n",
    "</div>\n",
    "<div class=\"en\">\n",
    "One ndarray characteristic is that it can contain only elements of the same type. Notice in the previous example there were numbers in matrix, but, after the ndarray creation, the numbers were converted into strings. That will always happen. \n",
    "</div>\n",
    "</div>"
   ]
  }
 ],
 "metadata": {
  "interpreter": {
   "hash": "d034eac455ef6a0de03e633f02c98f91f1b386010bcd71958f296e7d2ac4641b"
  },
  "kernelspec": {
   "display_name": "Python 3.8.8 ('base')",
   "language": "python",
   "name": "python3"
  },
  "language_info": {
   "codemirror_mode": {
    "name": "ipython",
    "version": 3
   },
   "file_extension": ".py",
   "mimetype": "text/x-python",
   "name": "python",
   "nbconvert_exporter": "python",
   "pygments_lexer": "ipython3",
   "version": "3.8.8"
  },
  "orig_nbformat": 4
 },
 "nbformat": 4,
 "nbformat_minor": 2
}
