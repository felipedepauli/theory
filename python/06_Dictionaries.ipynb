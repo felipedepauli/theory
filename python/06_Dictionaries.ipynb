{
 "cells": [
  {
   "cell_type": "code",
   "execution_count": 2,
   "metadata": {},
   "outputs": [],
   "source": [
    "characters = {\n",
    "    \"Finn\": {\n",
    "        \"name\": \"Finn Mertens\",\n",
    "        \"gender\": \"male\",\n",
    "        \"species\": \"human\"\n",
    "    },\n",
    "    \"Jake\": {\n",
    "        \"name\": \"Jake the Dog\",\n",
    "        \"gender\": \"male\",\n",
    "        \"species\": \"dog\"\n",
    "    },\n",
    "    \"Bubblegum\": {\n",
    "        \"name\": \"Bonnibel Bonnie Bubblegum\",\n",
    "        \"gender\": \"female\",\n",
    "        \"species\": \"gum person\"\n",
    "    },\n",
    "    \"Marceline\": {\n",
    "        \"name\": \"Wow\",\n",
    "        \"gender\": \"female\",\n",
    "        \"species\": \"vampire\"\n",
    "    },\n",
    "    \"Ice King\": {\n",
    "        \"name\": \"Simon Petrikov\",\n",
    "        \"gender\": \"male\",\n",
    "        \"species\": \"dog\"\n",
    "    },\n",
    "    \"Gunter\": {\n",
    "        \"name\": \"Gunter\",\n",
    "        \"gender\": \"nd\",\n",
    "        \"species\": \"penguim\"\n",
    "    }\n",
    "}"
   ]
  },
  {
   "cell_type": "code",
   "execution_count": 7,
   "metadata": {},
   "outputs": [
    {
     "name": "stdout",
     "output_type": "stream",
     "text": [
      "dict_keys(['Finn', 'Jake', 'Bubblegum', 'Marceline', 'Ice King', 'Gunter'])\n",
      "dict_values([{'name': 'Finn Mertens', 'gender': 'male', 'species': 'human'}, {'name': 'Jake the Dog', 'gender': 'male', 'species': 'dog'}, {'name': 'Bonnibel Bonnie Bubblegum', 'gender': 'female', 'species': 'gum person'}, {'name': 'Wow', 'gender': 'female', 'species': 'vampire'}, {'name': 'Simon Petrikov', 'gender': 'male', 'species': 'dog'}, {'name': 'Gunter', 'gender': 'nd', 'species': 'penguim'}])\n"
     ]
    }
   ],
   "source": [
    "print(characters.keys())\n",
    "print(characters.values())"
   ]
  },
  {
   "cell_type": "code",
   "execution_count": 11,
   "metadata": {},
   "outputs": [
    {
     "name": "stdout",
     "output_type": "stream",
     "text": [
      "True\n",
      "False\n"
     ]
    }
   ],
   "source": [
    "print('Marceline' in characters)\n",
    "print('The Ice King' in characters)"
   ]
  },
  {
   "cell_type": "code",
   "execution_count": 1,
   "metadata": {},
   "outputs": [
    {
     "name": "stdout",
     "output_type": "stream",
     "text": [
      "Eu amo isso aqui, meu irmão. Programação é o que há!\n"
     ]
    }
   ],
   "source": [
    "print( 'Eu amo isso aqui, meu irmão. Programação é o que há!')"
   ]
  }
 ],
 "metadata": {
  "interpreter": {
   "hash": "d034eac455ef6a0de03e633f02c98f91f1b386010bcd71958f296e7d2ac4641b"
  },
  "kernelspec": {
   "display_name": "Python 3.8.8 ('base')",
   "language": "python",
   "name": "python3"
  },
  "language_info": {
   "codemirror_mode": {
    "name": "ipython",
    "version": 3
   },
   "file_extension": ".py",
   "mimetype": "text/x-python",
   "name": "python",
   "nbconvert_exporter": "python",
   "pygments_lexer": "ipython3",
   "version": "3.8.8"
  },
  "orig_nbformat": 4
 },
 "nbformat": 4,
 "nbformat_minor": 2
}
