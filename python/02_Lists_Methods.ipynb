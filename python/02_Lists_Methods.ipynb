{
 "cells": [
  {
   "cell_type": "markdown",
   "metadata": {},
   "source": [
    "<style>\n",
    "    .md {\n",
    "        font-family: Consolas, Monospace;\n",
    "        font-size: 16px;\n",
    "    }\n",
    "    .br, .en {\n",
    "        padding: 10px 0;\n",
    "    }\n",
    "    .en {\n",
    "        border-top: 1px dotted lightgray;\n",
    "        color: #444;\n",
    "    }\n",
    "    h1 {\n",
    "        font-size: 24px;\n",
    "    }\n",
    "</style>\n",
    "\n",
    "<div class=md>\n",
    "<div class=br>\n",
    "<h1>Métodos da classe Lista</h1>\n",
    "</div>\n",
    "<div class=en>\n",
    "<h1>List Class Methods</h1>\n",
    "</div>\n",
    "</div>"
   ]
  },
  {
   "cell_type": "code",
   "execution_count": 2,
   "metadata": {},
   "outputs": [],
   "source": [
    "import numpy as np"
   ]
  },
  {
   "cell_type": "markdown",
   "metadata": {},
   "source": [
    "<style>\n",
    "    .md {\n",
    "        font-family: Consolas, Monospace;\n",
    "        font-size: 16px;\n",
    "    }\n",
    "    .br, .en {\n",
    "        padding: 10px 0;\n",
    "    }\n",
    "    .en {\n",
    "        border-top: 1px dotted lightgray;\n",
    "        color: #444;\n",
    "    }\n",
    "    h1 {\n",
    "        font-size: 24px;\n",
    "    }\n",
    "    ul.list {\n",
    "        padding: 15px 50px;\n",
    "    }\n",
    "    .methods {\n",
    "        display: grid;\n",
    "        grid-template-columns: 100px 1fr;\n",
    "        padding: 10px 50px;\n",
    "    }\n",
    "</style>\n",
    "\n",
    "<div class=\"md\">\n",
    "<div class=\"br\">\n",
    "<div class=\"methods\">\n",
    "    <div>index()</div> <div>pega o índice to primeiro elemento de uma lista que casa com a entrada</div>\n",
    "    <div>count()</div> <div>retorna o número de vezes que uma entrada aparece na lista</div>\n",
    "    <div>append()</div> <div>adiciona um novo elemento à lista ao seu fim</div>\n",
    "    <div>remove()</div> <div>remove o último elemento de uma lista</div>\n",
    "    <div>reverse()</div> <div>inverte a ordem da lista</div>\n",
    "</div>\n",
    "</div>\n",
    "<div class=\"en\">\n",
    "<div class=\"methods\">\n",
    "    <div>index()</div> <div>to get the index of the first element of a list that matches its input</div>\n",
    "    <div>count()</div> <div>to get the number of times an element appears in a list</div>\n",
    "    <div>append()</div> <div>that adds an element to the list it is called on</div>\n",
    "    <div>remove()</div> <div>that removes the first element of a list that matches the input</div>\n",
    "    <div>reverse()</div> <div>that reverses the order of the elements in the list it is called on</div>\n",
    "</div>\n",
    "</div>\n",
    "</div>"
   ]
  },
  {
   "cell_type": "code",
   "execution_count": 3,
   "metadata": {},
   "outputs": [],
   "source": [
    "characters = [['name', 'Finn'], ['name', 'Jake'], ['name', 'Bubblegum'], ['name', 'Marceline']]"
   ]
  },
  {
   "cell_type": "code",
   "execution_count": 4,
   "metadata": {},
   "outputs": [
    {
     "name": "stdout",
     "output_type": "stream",
     "text": [
      "3\n"
     ]
    }
   ],
   "source": [
    "print(characters.index(['name', 'Marceline']))"
   ]
  },
  {
   "cell_type": "code",
   "execution_count": 5,
   "metadata": {},
   "outputs": [
    {
     "name": "stdout",
     "output_type": "stream",
     "text": [
      "1\n"
     ]
    }
   ],
   "source": [
    "print(characters.count(['name', 'Finn']))"
   ]
  },
  {
   "cell_type": "code",
   "execution_count": 6,
   "metadata": {},
   "outputs": [
    {
     "name": "stdout",
     "output_type": "stream",
     "text": [
      "[['name', 'Finn'], ['name', 'Jake'], ['name', 'Bubblegum'], ['name', 'Marceline'], ['name', 'Simon Petrikov']]\n"
     ]
    }
   ],
   "source": [
    "characters.append(['name', 'Simon Petrikov'])\n",
    "print(characters)"
   ]
  },
  {
   "cell_type": "code",
   "execution_count": 7,
   "metadata": {},
   "outputs": [
    {
     "name": "stdout",
     "output_type": "stream",
     "text": [
      "[['name', 'Simon Petrikov'], ['name', 'Marceline'], ['name', 'Bubblegum'], ['name', 'Jake'], ['name', 'Finn']]\n"
     ]
    }
   ],
   "source": [
    "characters.reverse()\n",
    "print(characters)"
   ]
  },
  {
   "cell_type": "code",
   "execution_count": 8,
   "metadata": {},
   "outputs": [
    {
     "name": "stdout",
     "output_type": "stream",
     "text": [
      "[['name', 'Simon Petrikov'], ['name', 'Marceline'], ['name', 'Bubblegum'], ['name', 'Jake'], ['name', 'Finn'], ['name', 'Felipe']]\n",
      "Heeey! Felipe is not a Adventure Time Character!!!! Get rid of him!\n",
      "[['name', 'Simon Petrikov'], ['name', 'Marceline'], ['name', 'Bubblegum'], ['name', 'Jake'], ['name', 'Finn']]\n"
     ]
    }
   ],
   "source": [
    "characters = characters + [['name', 'Felipe']]\n",
    "print(characters)\n",
    "print('Heeey! Felipe is not a Adventure Time Character!!!! Get rid of him!')\n",
    "characters.remove(['name', 'Felipe'])\n",
    "print(characters)"
   ]
  }
 ],
 "metadata": {
  "kernelspec": {
   "display_name": "Python 3.10.5 64-bit",
   "language": "python",
   "name": "python3"
  },
  "language_info": {
   "codemirror_mode": {
    "name": "ipython",
    "version": 3
   },
   "file_extension": ".py",
   "mimetype": "text/x-python",
   "name": "python",
   "nbconvert_exporter": "python",
   "pygments_lexer": "ipython3",
   "version": "3.10.5"
  },
  "orig_nbformat": 4,
  "vscode": {
   "interpreter": {
    "hash": "369f2c481f4da34e4445cda3fffd2e751bd1c4d706f27375911949ba6bb62e1c"
   }
  }
 },
 "nbformat": 4,
 "nbformat_minor": 2
}
