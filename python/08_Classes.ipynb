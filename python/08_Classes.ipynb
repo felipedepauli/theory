{
 "cells": [
  {
   "cell_type": "code",
   "execution_count": 9,
   "metadata": {},
   "outputs": [
    {
     "name": "stdout",
     "output_type": "stream",
     "text": [
      "A soma 23 + 11 é 34.\n",
      "O produto 23 x 11 é 253.\n"
     ]
    }
   ],
   "source": [
    "class Calculadora:\n",
    "    def __init__(self, a, b):\n",
    "        self.a = a\n",
    "        self.b = b\n",
    "        \n",
    "    def getA(self):\n",
    "        return self.a\n",
    "    \n",
    "    def getB(self):\n",
    "        return self.b\n",
    "    \n",
    "    def soma(self):\n",
    "        return self.a + self.b\n",
    "    \n",
    "    def multiplicacao(self):\n",
    "        return self.a * self.b\n",
    "    \n",
    "calc = Calculadora(23, 11)\n",
    "\n",
    "print(f'A soma {calc.getA()} + {calc.getB()} é {calc.soma()}.')\n",
    "print(f'O produto {calc.getA()} x {calc.getB()} é {calc.multiplicacao()}.')\n"
   ]
  }
 ],
 "metadata": {
  "interpreter": {
   "hash": "d034eac455ef6a0de03e633f02c98f91f1b386010bcd71958f296e7d2ac4641b"
  },
  "kernelspec": {
   "display_name": "Python 3.8.8 ('base')",
   "language": "python",
   "name": "python3"
  },
  "language_info": {
   "name": "python",
   "version": "3.8.8"
  },
  "orig_nbformat": 4
 },
 "nbformat": 4,
 "nbformat_minor": 2
}
