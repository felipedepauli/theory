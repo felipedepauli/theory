{
 "cells": [
  {
   "cell_type": "markdown",
   "metadata": {},
   "source": [
    "<style>\n",
    "    .md {\n",
    "        font-family: Consolas, Monospace;\n",
    "        font-size: 16px;\n",
    "    }\n",
    "    .br, .en {\n",
    "        padding: 10px 0;\n",
    "    }\n",
    "    .en {\n",
    "        border-top: 1px dotted lightgray;\n",
    "        color: #444;\n",
    "    }\n",
    "    h1 {\n",
    "        font-size: 24px;\n",
    "    }\n",
    "</style>\n",
    "\n",
    "<div class=md>\n",
    "<div class=br>\n",
    "<h1>Tipos</h1>\n",
    "</div>\n",
    "<div class=en>\n",
    "<h1>Types</h1>\n",
    "</div>\n",
    "</div>"
   ]
  },
  {
   "cell_type": "markdown",
   "metadata": {},
   "source": [
    "<style>\n",
    "    .md {\n",
    "        font-family: Consolas, Monospace;\n",
    "        font-size: 16px;\n",
    "    }\n",
    "    .br, .en {\n",
    "        padding: 10px 0;\n",
    "    }\n",
    "    .en {\n",
    "        border-top: 1px dotted lightgray;\n",
    "        color: #444;\n",
    "    }\n",
    "    h1 {\n",
    "        font-size: 24px;\n",
    "    }\n",
    "    ul.list {\n",
    "        padding: 15px 50px;\n",
    "    }\n",
    "</style>\n",
    "\n",
    "<div class=md>\n",
    "Os tipos primitivos do python são:  \n",
    "<ul class=list>\n",
    "    <li>float - números reais</li>\n",
    "    <li>int - números inteiros</li>\n",
    "    <li>str - texto</li>\n",
    "    <li>bool - números boleanos</li>\n",
    "</ul>\n",
    "<div class=en>\n",
    "The pyhon primitive types are:  \n",
    "<ul class=list>\n",
    "    <li>float - real numbers</li>\n",
    "    <li>int - integer numbers</li>\n",
    "    <li>str - strings, text</li>\n",
    "    <li>bool - booleans</li>\n",
    "</ul>\n",
    "</div>\n",
    "</div>"
   ]
  },
  {
   "cell_type": "code",
   "execution_count": 2,
   "metadata": {},
   "outputs": [
    {
     "name": "stdout",
     "output_type": "stream",
     "text": [
      "The variable \"x\", which value is \"1\", is of type <class 'int'>.\n",
      "The variable \"y\", which value is \"1.1\", is of type <class 'float'>.\n",
      "The variable \"text\", which value is \"This is a string.\", is of type <class 'str'>.\n",
      "The variable \"text_double_quoted\", which value is \"This is also a string.\", is also of type <class 'str'>.\n",
      "The variable \"boolean\", which value is \"True\", is of type <class 'bool'>.\n"
     ]
    }
   ],
   "source": [
    "x = 1\n",
    "y = 1.1\n",
    "text = 'This is a string.'\n",
    "text_double_quoted = \"This is also a string.\"\n",
    "boolean = True\n",
    "\n",
    "print(f'The variable \"x\", which value is \"{x}\", is of type {type(x)}.')\n",
    "print(f'The variable \"y\", which value is \"{y}\", is of type {type(y)}.')\n",
    "print(f'The variable \"text\", which value is \"{text}\", is of type {type(text)}.')\n",
    "print(f'The variable \"text_double_quoted\", which value is \"{text_double_quoted}\", is also of type {type(text_double_quoted)}.')\n",
    "print(f'The variable \"boolean\", which value is \"{boolean}\", is of type {type(boolean)}.')"
   ]
  },
  {
   "cell_type": "markdown",
   "metadata": {},
   "source": [
    "<style>\n",
    "    .md {\n",
    "        font-family: Consolas, Monospace;\n",
    "        font-size: 16px;\n",
    "    }\n",
    "    .br, .en {\n",
    "        padding: 10px 0;\n",
    "    }\n",
    "    .en {\n",
    "        border-top: 1px dotted lightgray;\n",
    "        color: #444;\n",
    "    }\n",
    "</style>\n",
    "<div class=md>\n",
    "<div class=br>\n",
    "Cada tipo possui seu próprio conjunto de atributos e métodos, afinal, são classes. Estas classes podem se comportar de formas diferentes para mesmas operações.\n",
    "</div>\n",
    "<div class=en>\n",
    "Each type has its own set of atributes and methods, after all, they're classes. These classes can behave in different ways to same operations.\n",
    "</div>\n",
    "</div>"
   ]
  },
  {
   "cell_type": "code",
   "execution_count": 4,
   "metadata": {},
   "outputs": [
    {
     "name": "stdout",
     "output_type": "stream",
     "text": [
      "2\n",
      "This is a string.This is a string.\n"
     ]
    }
   ],
   "source": [
    "print(x + x)\n",
    "print(text + text)"
   ]
  },
  {
   "cell_type": "markdown",
   "metadata": {},
   "source": [
    "<html>\n",
    "<style>\n",
    "    body {\n",
    "        font-family: Consolas, Monospace;\n",
    "        font-size: 20px;\n",
    "    }\n",
    "</style>\n",
    "<body>\n",
    "\n",
    "</body>\n",
    "</html>"
   ]
  }
 ],
 "metadata": {
  "interpreter": {
   "hash": "d034eac455ef6a0de03e633f02c98f91f1b386010bcd71958f296e7d2ac4641b"
  },
  "kernelspec": {
   "display_name": "Python 3.8.8 ('base')",
   "language": "python",
   "name": "python3"
  },
  "language_info": {
   "codemirror_mode": {
    "name": "ipython",
    "version": 3
   },
   "file_extension": ".py",
   "mimetype": "text/x-python",
   "name": "python",
   "nbconvert_exporter": "python",
   "pygments_lexer": "ipython3",
   "version": "3.8.8"
  },
  "orig_nbformat": 4
 },
 "nbformat": 4,
 "nbformat_minor": 2
}
