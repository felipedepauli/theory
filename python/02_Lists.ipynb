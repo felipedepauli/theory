{
 "cells": [
  {
   "cell_type": "markdown",
   "metadata": {},
   "source": [
    "<style>\n",
    "    .md {\n",
    "        font-family: Consolas, Monospace;\n",
    "        font-size: 16px;\n",
    "    }\n",
    "    .br, .en {\n",
    "        padding: 10px 0;\n",
    "    }\n",
    "    .en {\n",
    "        border-top: 1px dotted lightgray;\n",
    "        color: #444;\n",
    "    }\n",
    "    h1 {\n",
    "        font-size: 24px;\n",
    "    }\n",
    "</style>\n",
    "\n",
    "<div class=md>\n",
    "<div class=br>\n",
    "<h1>Listas</h1>\n",
    "</div>\n",
    "<div class=en>\n",
    "<h1>Lists</h1>\n",
    "</div>\n",
    "</div>"
   ]
  },
  {
   "cell_type": "code",
   "execution_count": 17,
   "metadata": {},
   "outputs": [
    {
     "name": "stdout",
     "output_type": "stream",
     "text": [
      "<class 'list'>\n",
      "[['name', 'Finn'], ['name', 'Jake'], ['name', 'Bubblegum']]\n"
     ]
    }
   ],
   "source": [
    "characters = [\n",
    "    [ \"name\", \"Finn\" ],\n",
    "    [ \"name\", \"Jake\" ],\n",
    "    [ \"name\", \"Bubblegum\" ],\n",
    "]\n",
    "print(type(characters))\n",
    "print(characters)"
   ]
  },
  {
   "cell_type": "markdown",
   "metadata": {},
   "source": [
    "<style>\n",
    "    .md {\n",
    "        font-family: Consolas, Monospace;\n",
    "        font-size: 16px;\n",
    "    }\n",
    "    .br, .en {\n",
    "        padding: 10px 0;\n",
    "    }\n",
    "    .en {\n",
    "        border-top: 1px dotted lightgray;\n",
    "        color: #444;\n",
    "    }\n",
    "    h2 {\n",
    "        font-size: 20px;\n",
    "    }\n",
    "</style>\n",
    "\n",
    "<div class=md>\n",
    "<div class=br>\n",
    "<h2>Subset</h2>\n",
    "</div>\n",
    "<div class=en>\n",
    "<h2>Subset</h2>\n",
    "</div>\n",
    "</div>"
   ]
  },
  {
   "cell_type": "code",
   "execution_count": 18,
   "metadata": {},
   "outputs": [
    {
     "data": {
      "text/plain": [
       "['name', 'Finn']"
      ]
     },
     "execution_count": 18,
     "metadata": {},
     "output_type": "execute_result"
    }
   ],
   "source": [
    "characters[0] "
   ]
  },
  {
   "cell_type": "code",
   "execution_count": 19,
   "metadata": {},
   "outputs": [
    {
     "data": {
      "text/plain": [
       "['name', 'Bubblegum']"
      ]
     },
     "execution_count": 19,
     "metadata": {},
     "output_type": "execute_result"
    }
   ],
   "source": [
    "characters[-1]"
   ]
  },
  {
   "cell_type": "markdown",
   "metadata": {},
   "source": [
    "<style>\n",
    "    .md {\n",
    "        font-family: Consolas, Monospace;\n",
    "        font-size: 16px;\n",
    "    }\n",
    "    .br, .en {\n",
    "        padding: 10px 0;\n",
    "    }\n",
    "    .en {\n",
    "        border-top: 1px dotted lightgray;\n",
    "        color: #444;\n",
    "    }\n",
    "    h1 {\n",
    "        font-size: 24px;\n",
    "    }\n",
    "</style>\n",
    "\n",
    "<div class=md>\n",
    "<div class=br>\n",
    "Podemos selecionar apenas um segmento da lista. Para isso, utilizamos dois valores: o valor inicial, que é inclusivo, seguido do valor final, que é exclusivo.\n",
    "</div>\n",
    "<div class=en>\n",
    "We can select just a slice of the list. To do it, we use two values: the inclusive initial value and the exclusive final value.\n",
    "</div>\n",
    "</div>"
   ]
  },
  {
   "cell_type": "code",
   "execution_count": 20,
   "metadata": {},
   "outputs": [
    {
     "data": {
      "text/plain": [
       "[['name', 'Finn'], ['name', 'Jake']]"
      ]
     },
     "execution_count": 20,
     "metadata": {},
     "output_type": "execute_result"
    }
   ],
   "source": [
    "characters[0:2]"
   ]
  },
  {
   "cell_type": "markdown",
   "metadata": {},
   "source": [
    "<style>\n",
    "    .md {\n",
    "        font-family: Consolas, Monospace;\n",
    "        font-size: 16px;\n",
    "    }\n",
    "    .br, .en {\n",
    "        padding: 10px 0;\n",
    "    }\n",
    "    .en {\n",
    "        border-top: 1px dotted lightgray;\n",
    "        color: #444;\n",
    "    }\n",
    "    h1 {\n",
    "        font-size: 24px;\n",
    "    }\n",
    "</style>\n",
    "\n",
    "<div class=md>\n",
    "<div class=br>\n",
    "Podemos selecionar todos os elementos de uma lista. Para isso, basta omitir ou o valor inicial, ou valor final, ou os dois valores. Omitindo o valor inicial, a seleção inicia em 0. Omitindo o valor final, a seleção finaliza em -1. Omitindo ambos, a seleção inicia em 0 e termina em -1.\n",
    "</div>\n",
    "<div class=en>\n",
    "We can select every element of a list. To do it, we have to omit either the intial value, or final value or both. Omiting the initial value, the selection begins in zero. Omiting the final value, the selection ends on -1. Omitting both, the selection begins on 0 and ends on -1.\n",
    "</div>\n",
    "</div>"
   ]
  },
  {
   "cell_type": "code",
   "execution_count": 21,
   "metadata": {},
   "outputs": [
    {
     "name": "stdout",
     "output_type": "stream",
     "text": [
      "[['name', 'Finn'], ['name', 'Jake']]\n",
      "[['name', 'Jake'], ['name', 'Bubblegum']]\n",
      "[['name', 'Finn'], ['name', 'Jake'], ['name', 'Bubblegum']]\n"
     ]
    }
   ],
   "source": [
    "print(characters[:2])\n",
    "print(characters[1:])\n",
    "print(characters[:])"
   ]
  },
  {
   "cell_type": "markdown",
   "metadata": {},
   "source": [
    "<style>\n",
    "    .md {\n",
    "        font-family: Consolas, Monospace;\n",
    "        font-size: 16px;\n",
    "    }\n",
    "    .br, .en {\n",
    "        padding: 10px 0;\n",
    "    }\n",
    "    .en {\n",
    "        border-top: 1px dotted lightgray;\n",
    "        color: #444;\n",
    "    }\n",
    "    h2 {\n",
    "        font-size: 20px;\n",
    "    }\n",
    "</style>\n",
    "\n",
    "<div class=md>\n",
    "<div class=br>\n",
    "<h2>Inserindo. alterando e removendo elementos de listas</h2>\n",
    "</div>\n",
    "<div class=en>\n",
    "<h2>Inserting, changing and removing elements from a list</h2>\n",
    "</div>\n",
    "</div>"
   ]
  },
  {
   "cell_type": "code",
   "execution_count": 22,
   "metadata": {},
   "outputs": [
    {
     "name": "stdout",
     "output_type": "stream",
     "text": [
      "[['name', 'Finn'], ['name', 'Jake'], ['name', 'Bubblegum'], 'name', 'Marceline']\n",
      "Errado!\n"
     ]
    }
   ],
   "source": [
    "characters_ = characters + [\"name\", \"Marceline\"]\n",
    "print(characters_)\n",
    "print('Errado!')"
   ]
  },
  {
   "cell_type": "code",
   "execution_count": 23,
   "metadata": {},
   "outputs": [
    {
     "name": "stdout",
     "output_type": "stream",
     "text": [
      "[['name', 'Finn'], ['name', 'Jake'], ['name', 'Bubblegum'], ['name', 'Marceline']]\n",
      "Certo!\n"
     ]
    }
   ],
   "source": [
    "characters = characters + [[\"name\", \"Marceline\"]]\n",
    "print(characters)\n",
    "print('Certo!')"
   ]
  },
  {
   "cell_type": "code",
   "execution_count": 24,
   "metadata": {},
   "outputs": [
    {
     "name": "stdout",
     "output_type": "stream",
     "text": [
      "[['name', 'Finn'], ['name', 'Jake'], ['name', 'Bubblegum'], 'Marceline']\n",
      "[['name', 'Finn'], ['name', 'Jake'], ['name', 'Bubblegum']]\n"
     ]
    }
   ],
   "source": [
    "del(characters_[3])\n",
    "print(characters_)\n",
    "del(characters_[-1])\n",
    "print(characters_)"
   ]
  },
  {
   "cell_type": "markdown",
   "metadata": {},
   "source": [
    "<style>\n",
    "    .md {\n",
    "        font-family: Consolas, Monospace;\n",
    "        font-size: 16px;\n",
    "    }\n",
    "    .br, .en {\n",
    "        padding: 10px 0;\n",
    "    }\n",
    "    .en {\n",
    "        border-top: 1px dotted lightgray;\n",
    "        color: #444;\n",
    "    }\n",
    "    h1 {\n",
    "        font-size: 24px;\n",
    "    }\n",
    "</style>\n",
    "\n",
    "<div class=md>\n",
    "<div class=br>\n",
    "Temos que tomar cuidado com a cópia e listas. Quando copiamos diretamente uma lista, estamos criando, na verdade, um novo ponteiro para aquela lista. Alterando qualquer referência alterará a lista original.</div>\n",
    "<div class=en>\n",
    "We have to aware with lists copies. When we copy directly a list, we are creating, actually, a new pointer poiting to the original list. When we change whatever reference, the original list will be changed.\n",
    "</div>\n",
    "</div>"
   ]
  },
  {
   "cell_type": "code",
   "execution_count": 25,
   "metadata": {},
   "outputs": [
    {
     "name": "stdout",
     "output_type": "stream",
     "text": [
      "['X', 2, 3, 4, 5]\n",
      "['X', 2, 3, 4, 5]\n",
      "[1, 'X', 3, 4, 5]\n",
      "[1, 2, 'X', 4, 5]\n"
     ]
    }
   ],
   "source": [
    "my_list             = [1, 2, 3, 4, 5]\n",
    "pointer_to_my_list  = my_list\n",
    "new_list            = list(my_list)\n",
    "another_new_list    = my_list[:]\n",
    "\n",
    "pointer_to_my_list[0] = 'X'\n",
    "new_list[1] = 'X'\n",
    "another_new_list[2] = 'X'\n",
    "\n",
    "print(my_list)\n",
    "print(pointer_to_my_list)\n",
    "print(new_list)\n",
    "print(another_new_list)"
   ]
  },
  {
   "cell_type": "code",
   "execution_count": 26,
   "metadata": {},
   "outputs": [
    {
     "data": {
      "text/plain": [
       "['X', 3, 4, 5, 'Satanás']"
      ]
     },
     "execution_count": 26,
     "metadata": {},
     "output_type": "execute_result"
    }
   ],
   "source": [
    "my_list.remove(2)\n",
    "my_list.append(\"Satanás\")\n",
    "my_list"
   ]
  },
  {
   "cell_type": "code",
   "execution_count": 28,
   "metadata": {},
   "outputs": [
    {
     "ename": "AttributeError",
     "evalue": "'list' object has no attribute 'difference'",
     "output_type": "error",
     "traceback": [
      "\u001b[1;31m---------------------------------------------------------------------------\u001b[0m",
      "\u001b[1;31mAttributeError\u001b[0m                            Traceback (most recent call last)",
      "\u001b[1;32m~\\AppData\\Local\\Temp/ipykernel_5328/2744422957.py\u001b[0m in \u001b[0;36m<module>\u001b[1;34m\u001b[0m\n\u001b[0;32m      1\u001b[0m \u001b[0ma\u001b[0m \u001b[1;33m=\u001b[0m \u001b[1;33m[\u001b[0m\u001b[1;36m1\u001b[0m\u001b[1;33m,\u001b[0m \u001b[1;36m2\u001b[0m\u001b[1;33m,\u001b[0m \u001b[1;36m3\u001b[0m\u001b[1;33m]\u001b[0m\u001b[1;33m\u001b[0m\u001b[1;33m\u001b[0m\u001b[0m\n\u001b[0;32m      2\u001b[0m \u001b[0mb\u001b[0m \u001b[1;33m=\u001b[0m \u001b[1;33m[\u001b[0m\u001b[1;36m2\u001b[0m\u001b[1;33m,\u001b[0m \u001b[1;36m4\u001b[0m\u001b[1;33m,\u001b[0m \u001b[1;36m5\u001b[0m\u001b[1;33m]\u001b[0m\u001b[1;33m\u001b[0m\u001b[1;33m\u001b[0m\u001b[0m\n\u001b[1;32m----> 3\u001b[1;33m \u001b[0ma\u001b[0m\u001b[1;33m.\u001b[0m\u001b[0mdifference\u001b[0m\u001b[1;33m(\u001b[0m\u001b[0mb\u001b[0m\u001b[1;33m)\u001b[0m\u001b[1;33m\u001b[0m\u001b[1;33m\u001b[0m\u001b[0m\n\u001b[0m",
      "\u001b[1;31mAttributeError\u001b[0m: 'list' object has no attribute 'difference'"
     ]
    }
   ],
   "source": [
    "a = [1, 2, 3]\n",
    "b = [2, 4, 5]\n",
    "a.iss(b)"
   ]
  }
 ],
 "metadata": {
  "interpreter": {
   "hash": "d034eac455ef6a0de03e633f02c98f91f1b386010bcd71958f296e7d2ac4641b"
  },
  "kernelspec": {
   "display_name": "Python 3.8.8 ('base')",
   "language": "python",
   "name": "python3"
  },
  "language_info": {
   "codemirror_mode": {
    "name": "ipython",
    "version": 3
   },
   "file_extension": ".py",
   "mimetype": "text/x-python",
   "name": "python",
   "nbconvert_exporter": "python",
   "pygments_lexer": "ipython3",
   "version": "3.8.8"
  },
  "orig_nbformat": 4
 },
 "nbformat": 4,
 "nbformat_minor": 2
}
