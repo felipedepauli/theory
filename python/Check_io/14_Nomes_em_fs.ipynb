{
 "cells": [
  {
   "cell_type": "code",
   "execution_count": 15,
   "metadata": {},
   "outputs": [],
   "source": [
    "import os"
   ]
  },
  {
   "cell_type": "code",
   "execution_count": 16,
   "metadata": {},
   "outputs": [],
   "source": [
    "def gera_base_de_nomes(root):\n",
    "    databaseFiles = []\n",
    "    for rel_path, dir_names, file_names in os.walk(root):\n",
    "        for name in dir_names:\n",
    "            print(f'__dir__{rel_path}{name}')\n",
    "            databaseFiles.append('__dir__' + rel_path + name)\n",
    "        for name in file_names:\n",
    "            print(f'__files_{rel_path}{name}')\n",
    "            databaseFiles.append('__files_' + rel_path + name)\n",
    "    return databaseFiles"
   ]
  },
  {
   "cell_type": "code",
   "execution_count": 17,
   "metadata": {},
   "outputs": [
    {
     "name": "stdout",
     "output_type": "stream",
     "text": [
      "__files_.14_Nomes_em_fs.ipynb\n",
      "__files_.10_Replace_first.py\n",
      "__files_.02_Acceptable_password.py\n",
      "__files_.12_Beginning_zeros.py\n",
      "__files_.11_Max_digit.py\n",
      "__files_.10_qualquer_coisa.json\n",
      "__files_.06_Ends_with_zeros.py\n",
      "__files_.05_Reverse_txt.py\n",
      "__files_.07_Easy_unpack.py\n",
      "__files_.03_Number_of_digits.py\n",
      "__files_.01_Return_the_first_word.py\n",
      "__files_.04_Most_frequent.py\n",
      "__files_.13_.py\n",
      "__files_.08_Remove_all_before.py\n",
      "__files_.09_All_upper.py\n"
     ]
    }
   ],
   "source": [
    "root = \".\"\n",
    "base_de_dados = gera_base_de_nomes(root)"
   ]
  },
  {
   "cell_type": "code",
   "execution_count": 24,
   "metadata": {},
   "outputs": [
    {
     "name": "stdout",
     "output_type": "stream",
     "text": [
      "__files_.01_Return_the_first_word.py\n",
      "__files_.02_Acceptable_password.py\n",
      "__files_.03_Number_of_digits.py\n",
      "__files_.04_Most_frequent.py\n",
      "__files_.05_Reverse_txt.py\n",
      "__files_.06_Ends_with_zeros.py\n",
      "__files_.07_Easy_unpack.py\n",
      "__files_.08_Remove_all_before.py\n",
      "__files_.09_All_upper.py\n",
      "__files_.10_Replace_first.py\n",
      "__files_.10_qualquer_coisa.json\n",
      "__files_.11_Max_digit.py\n",
      "__files_.12_Beginning_zeros.py\n",
      "__files_.13_.py\n",
      "__files_.14_Nomes_em_fs.ipynb\n"
     ]
    }
   ],
   "source": [
    "base_de_dados.sort()\n",
    "for name in base_de_dados:\n",
    "    print(name)"
   ]
  },
  {
   "cell_type": "code",
   "execution_count": 23,
   "metadata": {},
   "outputs": [
    {
     "data": {
      "text/plain": [
       "'__files_.10_qualquer_coisa.jpg'"
      ]
     },
     "execution_count": 23,
     "metadata": {},
     "output_type": "execute_result"
    }
   ],
   "source": [
    "base_de_dados[10].replace('json', 'jpg')"
   ]
  }
 ],
 "metadata": {
  "kernelspec": {
   "display_name": "Python 3.8.10 64-bit",
   "language": "python",
   "name": "python3"
  },
  "language_info": {
   "codemirror_mode": {
    "name": "ipython",
    "version": 3
   },
   "file_extension": ".py",
   "mimetype": "text/x-python",
   "name": "python",
   "nbconvert_exporter": "python",
   "pygments_lexer": "ipython3",
   "version": "3.8.10"
  },
  "orig_nbformat": 4,
  "vscode": {
   "interpreter": {
    "hash": "916dbcbb3f70747c44a77c7bcd40155683ae19c65e1c03b4aa3499c5328201f1"
   }
  }
 },
 "nbformat": 4,
 "nbformat_minor": 2
}
