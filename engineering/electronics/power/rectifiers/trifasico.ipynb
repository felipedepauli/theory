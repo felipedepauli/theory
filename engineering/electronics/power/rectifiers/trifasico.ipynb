{
 "cells": [
  {
   "cell_type": "code",
   "execution_count": 77,
   "metadata": {},
   "outputs": [],
   "source": [
    "import numpy as np\n",
    "\n",
    "frequencia = 60\n",
    "w = 2 * np.pi * frequencia\n",
    "Vo = 34\n",
    "R = 100\n",
    "L = 1"
   ]
  },
  {
   "cell_type": "code",
   "execution_count": 78,
   "metadata": {},
   "outputs": [
    {
     "name": "stdout",
     "output_type": "stream",
     "text": [
      "0.1 segundo\n"
     ]
    }
   ],
   "source": [
    "periodo = 1/frequencia\n",
    "tempo   = 6 * periodo\n",
    "\n",
    "print(f'{tempo:.3} segundo')"
   ]
  },
  {
   "cell_type": "markdown",
   "metadata": {},
   "source": [
    "## Ponto Comum com carga RL\n",
    "Tensão média na carga\n",
    "$$\n",
    "V_{L_{méd}}= 0,9V_2\n",
    "$$\n",
    "Corrente média na carga\n",
    "$$\n",
    "I_{L_{méd}}= \\frac{0,9V_2}{R}\n",
    "$$\n",
    "Fator de ondulação\n",
    "$$\n",
    "\\Delta I_L=\\frac{1,2V_2}{Z_2}\n",
    "$$\n"
   ]
  },
  {
   "cell_type": "code",
   "execution_count": 79,
   "metadata": {},
   "outputs": [
    {
     "name": "stdout",
     "output_type": "stream",
     "text": [
      "VLmed   = 30.6 [V]\n",
      "ILmed   = 306.0 [mA]\n",
      "Ki      = 0.0536\n"
     ]
    }
   ],
   "source": [
    "VLmed = 0.9 * Vo                                    # Tensão média na carga\n",
    "ILmed = VLmed / R                                   # Corrente média na carga\n",
    "Ki    = 1.2*Vo / np.sqrt(R**2 + 4 * w**2 *L**2)   # Ondulação de corrente na carga\n",
    "\n",
    "print(f'VLmed   = {VLmed} [V]')\n",
    "print(f'ILmed   = {ILmed*1000} [mA]')\n",
    "print(f'Ki      = {Ki:.3}')"
   ]
  },
  {
   "cell_type": "markdown",
   "metadata": {},
   "source": [
    "## Ponte de Diodos com carga RL\n",
    "\n",
    "Tensão média na carga\n",
    "\n",
    "\n",
    "Corrente média na carga\n",
    "\n",
    "\n",
    "\n",
    "Fator de ondulaçao"
   ]
  },
  {
   "cell_type": "code",
   "execution_count": 80,
   "metadata": {},
   "outputs": [
    {
     "name": "stdout",
     "output_type": "stream",
     "text": [
      "VLmed   = 30.6 [V]\n",
      "ILmed   = 306.0 [mA]\n",
      "Ki      = 0.0973\n"
     ]
    }
   ],
   "source": [
    "VLmed = 0.9 * Vo                                    # Tensão média na carga\n",
    "ILmed = VLmed / R                                   # Corrente média na carga\n",
    "Ki    = 0.74 * R / np.sqrt(R**2 + 4 * w**2 *L**2)   # Ondulação de corrente na carga\n",
    "\n",
    "print(f'VLmed   = {VLmed} [V]')\n",
    "print(f'ILmed   = {ILmed*1000} [mA]')\n",
    "print(f'Ki      = {Ki:.3}')\n"
   ]
  }
 ],
 "metadata": {
  "interpreter": {
   "hash": "d034eac455ef6a0de03e633f02c98f91f1b386010bcd71958f296e7d2ac4641b"
  },
  "kernelspec": {
   "display_name": "Python 3.8.8 ('base')",
   "language": "python",
   "name": "python3"
  },
  "language_info": {
   "codemirror_mode": {
    "name": "ipython",
    "version": 3
   },
   "file_extension": ".py",
   "mimetype": "text/x-python",
   "name": "python",
   "nbconvert_exporter": "python",
   "pygments_lexer": "ipython3",
   "version": "3.8.8"
  },
  "orig_nbformat": 4
 },
 "nbformat": 4,
 "nbformat_minor": 2
}
